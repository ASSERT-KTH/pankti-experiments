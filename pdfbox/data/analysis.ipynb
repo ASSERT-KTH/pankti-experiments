{
 "cells": [
  {
   "cell_type": "code",
   "execution_count": 1,
   "metadata": {},
   "outputs": [],
   "source": [
    "import matplotlib as mpl\n",
    "import numpy as np \n",
    "import matplotlib.pyplot as plt\n",
    "import pandas as pd\n",
    "import seaborn as sns\n",
    "import statistics\n",
    "import glob, os\n",
    "%matplotlib inline"
   ]
  },
  {
   "cell_type": "code",
   "execution_count": 2,
   "metadata": {
    "scrolled": true
   },
   "outputs": [
    {
     "data": {
      "text/html": [
       "<div>\n",
       "<style scoped>\n",
       "    .dataframe tbody tr th:only-of-type {\n",
       "        vertical-align: middle;\n",
       "    }\n",
       "\n",
       "    .dataframe tbody tr th {\n",
       "        vertical-align: top;\n",
       "    }\n",
       "\n",
       "    .dataframe thead th {\n",
       "        text-align: right;\n",
       "    }\n",
       "</style>\n",
       "<table border=\"1\" class=\"dataframe\">\n",
       "  <thead>\n",
       "    <tr style=\"text-align: right;\">\n",
       "      <th></th>\n",
       "      <th>project</th>\n",
       "      <th>total invocations</th>\n",
       "      <th>collected object profiles</th>\n",
       "      <th>unique object profiles</th>\n",
       "    </tr>\n",
       "  </thead>\n",
       "  <tbody>\n",
       "    <tr>\n",
       "      <th>0</th>\n",
       "      <td>jicofo</td>\n",
       "      <td>152</td>\n",
       "      <td>110</td>\n",
       "      <td>20</td>\n",
       "    </tr>\n",
       "    <tr>\n",
       "      <th>1</th>\n",
       "      <td>pdfbox</td>\n",
       "      <td>121175</td>\n",
       "      <td>57563</td>\n",
       "      <td>13851</td>\n",
       "    </tr>\n",
       "    <tr>\n",
       "      <th>2</th>\n",
       "      <td>broadleaf</td>\n",
       "      <td>372</td>\n",
       "      <td>372</td>\n",
       "      <td>158</td>\n",
       "    </tr>\n",
       "  </tbody>\n",
       "</table>\n",
       "</div>"
      ],
      "text/plain": [
       "     project  total invocations  collected object profiles  \\\n",
       "0     jicofo                152                        110   \n",
       "1     pdfbox             121175                      57563   \n",
       "2  broadleaf                372                        372   \n",
       "\n",
       "   unique object profiles  \n",
       "0                      20  \n",
       "1                   13851  \n",
       "2                     158  "
      ]
     },
     "execution_count": 2,
     "metadata": {},
     "output_type": "execute_result"
    }
   ],
   "source": [
    "data = [['jicofo', 152, 110, 20], ['pdfbox', 121175, 57563, 13851], ['broadleaf', 372, 372, 158]]\n",
    "df = pd.DataFrame(data, columns = ['project', 'total invocations', 'collected object profiles', 'unique object profiles'])\n",
    "color_list = ['#f5b935', '#df3062', '#11abc1']\n",
    "\n",
    "df"
   ]
  },
  {
   "cell_type": "code",
   "execution_count": 3,
   "metadata": {},
   "outputs": [
    {
     "data": {
      "image/png": "[encoded data removed]",
      "text/plain": [
       "<Figure size 864x720 with 1 Axes>"
      ]
     },
     "metadata": {
      "needs_background": "light"
     },
     "output_type": "display_data"
    }
   ],
   "source": [
    "fig = df.set_index('project').plot.bar(color=color_list, log=True, figsize=(12, 10), grid=True, fontsize=16, rot=0)\n",
    "fig.set_xlabel('Project', fontdict={'fontsize':16})\n",
    "fig.set_ylabel('Invocations', fontdict={'fontsize':16})\n",
    "fig.legend(loc=1,fontsize=16);\n",
    "# fig.set_title(\"Method invocations and object profiles for each project\", fontsize=16)\n",
    "plt.savefig('/home/user/invocations.pdf')"
   ]
  },
  {
   "cell_type": "code",
   "execution_count": 4,
   "metadata": {},
   "outputs": [
    {
     "name": "stdout",
     "output_type": "stream",
     "text": [
      "46\n"
     ]
    }
   ],
   "source": [
    "paths = []\n",
    "os.chdir(\"/tmp/pankti-object-data/\")\n",
    "for path in glob.glob(\"*-object-profile-sizes.txt\"):\n",
    "    paths.append(path)\n",
    "\n",
    "print(len(paths))"
   ]
  },
  {
   "cell_type": "code",
   "execution_count": 5,
   "metadata": {},
   "outputs": [
    {
     "name": "stdout",
     "output_type": "stream",
     "text": [
      "Total size (GB) 5.493391048163176\n"
     ]
    }
   ],
   "source": [
    "sizes_in_file = \"\"\n",
    "sizes = []\n",
    "total_size = 0\n",
    "for path in paths:\n",
    "    f = open(path, \"r\")\n",
    "    sizes_in_file = f.read().rstrip()\n",
    "    for s in sizes_in_file.split(\"\\n\"):\n",
    "        total_size += int(s)\n",
    "        sizes.append(float(s)/(1024 * 1024))\n",
    "        \n",
    "print(\"Total size (GB)\", total_size/(1024 * 1024 * 1024))"
   ]
  },
  {
   "cell_type": "code",
   "execution_count": 6,
   "metadata": {},
   "outputs": [
    {
     "name": "stdout",
     "output_type": "stream",
     "text": [
      "Smallest object profile (MB): 0.0001506805419921875\n",
      "Largest object profile (MB): 54.727248191833496\n",
      "Median size of object profile (MB): 0.0001506805419921875\n"
     ]
    }
   ],
   "source": [
    "sizes.sort()\n",
    "print(\"Smallest object profile (MB):\", sizes[0])\n",
    "print(\"Largest object profile (MB):\", sizes[-1])\n",
    "print(\"Median size of object profile (MB):\", statistics.median(sizes))"
   ]
  },
  {
   "cell_type": "code",
   "execution_count": 7,
   "metadata": {},
   "outputs": [
    {
     "name": "stdout",
     "output_type": "stream",
     "text": [
      "(57563, 1)\n"
     ]
    },
    {
     "data": {
      "text/html": [
       "<div>\n",
       "<style scoped>\n",
       "    .dataframe tbody tr th:only-of-type {\n",
       "        vertical-align: middle;\n",
       "    }\n",
       "\n",
       "    .dataframe tbody tr th {\n",
       "        vertical-align: top;\n",
       "    }\n",
       "\n",
       "    .dataframe thead th {\n",
       "        text-align: right;\n",
       "    }\n",
       "</style>\n",
       "<table border=\"1\" class=\"dataframe\">\n",
       "  <thead>\n",
       "    <tr style=\"text-align: right;\">\n",
       "      <th></th>\n",
       "      <th>0</th>\n",
       "    </tr>\n",
       "  </thead>\n",
       "  <tbody>\n",
       "    <tr>\n",
       "      <th>0</th>\n",
       "      <td>0.000151</td>\n",
       "    </tr>\n",
       "    <tr>\n",
       "      <th>1</th>\n",
       "      <td>0.000151</td>\n",
       "    </tr>\n",
       "    <tr>\n",
       "      <th>2</th>\n",
       "      <td>0.000151</td>\n",
       "    </tr>\n",
       "    <tr>\n",
       "      <th>3</th>\n",
       "      <td>0.000151</td>\n",
       "    </tr>\n",
       "    <tr>\n",
       "      <th>4</th>\n",
       "      <td>0.000151</td>\n",
       "    </tr>\n",
       "  </tbody>\n",
       "</table>\n",
       "</div>"
      ],
      "text/plain": [
       "          0\n",
       "0  0.000151\n",
       "1  0.000151\n",
       "2  0.000151\n",
       "3  0.000151\n",
       "4  0.000151"
      ]
     },
     "execution_count": 7,
     "metadata": {},
     "output_type": "execute_result"
    }
   ],
   "source": [
    "sorted_unique_sizes = list(set(sizes))\n",
    "sorted_unique_sizes.sort()\n",
    "df = pd.DataFrame(sizes)\n",
    "print(df.shape)\n",
    "df.head()"
   ]
  },
  {
   "cell_type": "code",
   "execution_count": 8,
   "metadata": {},
   "outputs": [
    {
     "data": {
      "image/png": "[encoded data removed]",
      "text/plain": [
       "<Figure size 576x288 with 1 Axes>"
      ]
     },
     "metadata": {
      "needs_background": "light"
     },
     "output_type": "display_data"
    }
   ],
   "source": [
    "size_series = pd.Series(sizes)\n",
    "bins = np.linspace(0, 60, 7)\n",
    "fig, ax = plt.subplots()\n",
    "size_hist = size_series.hist(bins=bins, ax=ax, figsize=(8, 4), log=True, color=\"#800080\")\n",
    "size_hist.set_xlabel(\"Object profile size (MB)\")\n",
    "size_hist.set_ylabel(\"Number of object profiles\")\n",
    "fig.savefig('/home/user/pdfbox-object-sizes.pdf')\n",
    "\n",
    "#3b55ce"
   ]
  },
  {
   "cell_type": "code",
   "execution_count": null,
   "metadata": {},
   "outputs": [],
   "source": []
  },
  {
   "cell_type": "code",
   "execution_count": null,
   "metadata": {},
   "outputs": [],
   "source": []
  }
 ],
 "metadata": {
  "kernelspec": {
   "display_name": "Python 3",
   "language": "python",
   "name": "python3"
  },
  "language_info": {
   "codemirror_mode": {
    "name": "ipython",
    "version": 3
   },
   "file_extension": ".py",
   "mimetype": "text/x-python",
   "name": "python",
   "nbconvert_exporter": "python",
   "pygments_lexer": "ipython3",
   "version": "3.7.6"
  }
 },
 "nbformat": 4,
 "nbformat_minor": 4
}
