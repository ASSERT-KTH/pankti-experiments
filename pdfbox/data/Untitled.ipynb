{
 "cells": [
  {
   "cell_type": "code",
   "execution_count": 45,
   "metadata": {},
   "outputs": [],
   "source": [
    "import os"
   ]
  },
  {
   "cell_type": "code",
   "execution_count": 46,
   "metadata": {},
   "outputs": [],
   "source": [
    "prologue = \"\"\"package org.apache.fontbox.ttf;\n",
    "import com.thoughtworks.xstream.XStream;\n",
    "import java.io.File;\n",
    "import java.util.Scanner;\n",
    "import org.junit.Assert;\n",
    "import org.junit.Test;\n",
    "public class TestGlyfSimpleDescriptPanktiGen {\n",
    "    static XStream xStream = new XStream();\"\"\"\n",
    "\n",
    "epilogue = \"\"\"}\"\"\""
   ]
  },
  {
   "cell_type": "code",
   "execution_count": 63,
   "metadata": {},
   "outputs": [
    {
     "name": "stdout",
     "output_type": "stream",
     "text": [
      "['package org.apache.fontbox.ttf;\\nimport com.thoughtworks.xstream.XStream;\\nimport java.io.File;\\nimport java.util.', ';\\nimport org.junit.Assert;\\nimport org.junit.Test;\\npublic class TestGlyfSimpleDescriptPanktiGen {\\n    static XStream xStream = new XStream();']\n"
     ]
    }
   ],
   "source": [
    "split_pro = prologue.split(\"Scanner\")\n",
    "print(split_pro)"
   ]
  },
  {
   "cell_type": "code",
   "execution_count": 47,
   "metadata": {},
   "outputs": [],
   "source": [
    "tests = \"\"\n",
    "full_file_path = \"/home/user/dev/pankti/pankti-generate/output/generated/pdfbox/org/apache/fontbox/ttf/TestGlyfSimpleDescriptPanktiGen.java\"\n",
    "sub_file_path = \"/home/user/dev/pankti/pankti-generate/output/generated/pdfbox/org/apache/fontbox/ttf/TestSubFile\"\n",
    "keyword = \"public void testGetFlags\""
   ]
  },
  {
   "cell_type": "code",
   "execution_count": 60,
   "metadata": {},
   "outputs": [
    {
     "name": "stdout",
     "output_type": "stream",
     "text": [
      "public void testGetFlags1000() throws Exception {\n",
      "public void testGetFlags2000() throws Exception {\n",
      "public void testGetFlags3000() throws Exception {\n",
      "public void testGetFlags4000() throws Exception {\n",
      "public void testGetFlags5000() throws Exception {\n",
      "public void testGetFlags6000() throws Exception {\n",
      "public void testGetFlags7000() throws Exception {\n",
      "public void testGetFlags8000() throws Exception {\n",
      "public void testGetFlags9000() throws Exception {\n",
      "public void testGetFlags10000() throws Exception {\n",
      "public void testGetFlags11000() throws Exception {\n",
      "11\n"
     ]
    },
    {
     "name": "stderr",
     "output_type": "stream",
     "text": [
      "IOPub data rate exceeded.\n",
      "The notebook server will temporarily stop sending output\n",
      "to the client in order to avoid crashing it.\n",
      "To change this limit, set the config variable\n",
      "`--NotebookApp.iopub_data_rate_limit`.\n",
      "\n",
      "Current values:\n",
      "NotebookApp.iopub_data_rate_limit=1000000.0 (bytes/sec)\n",
      "NotebookApp.rate_limit_window=3.0 (secs)\n",
      "\n"
     ]
    },
    {
     "ename": "TypeError",
     "evalue": "write() argument must be str, not list",
     "output_type": "error",
     "traceback": [
      "\u001b[0;31m---------------------------------------------------------------------------\u001b[0m",
      "\u001b[0;31mTypeError\u001b[0m                                 Traceback (most recent call last)",
      "\u001b[0;32m<ipython-input-60-877400994b93>\u001b[0m in \u001b[0;36m<module>\u001b[0;34m\u001b[0m\n\u001b[1;32m     13\u001b[0m     \u001b[0;32mwith\u001b[0m \u001b[0mopen\u001b[0m\u001b[0;34m(\u001b[0m\u001b[0msub_file_path\u001b[0m \u001b[0;34m+\u001b[0m \u001b[0mstr\u001b[0m\u001b[0;34m(\u001b[0m\u001b[0mi\u001b[0m\u001b[0;34m)\u001b[0m \u001b[0;34m+\u001b[0m \u001b[0;34m\".java\"\u001b[0m\u001b[0;34m,\u001b[0m \u001b[0;34m'w'\u001b[0m\u001b[0;34m)\u001b[0m \u001b[0;32mas\u001b[0m \u001b[0mfh\u001b[0m\u001b[0;34m:\u001b[0m\u001b[0;34m\u001b[0m\u001b[0;34m\u001b[0m\u001b[0m\n\u001b[1;32m     14\u001b[0m         \u001b[0mfh\u001b[0m\u001b[0;34m.\u001b[0m\u001b[0mwrite\u001b[0m\u001b[0;34m(\u001b[0m\u001b[0mprologue\u001b[0m\u001b[0;34m)\u001b[0m\u001b[0;34m\u001b[0m\u001b[0;34m\u001b[0m\u001b[0m\n\u001b[0;32m---> 15\u001b[0;31m         \u001b[0mfh\u001b[0m\u001b[0;34m.\u001b[0m\u001b[0mwrite\u001b[0m\u001b[0;34m(\u001b[0m\u001b[0mtext_split\u001b[0m\u001b[0;34m[\u001b[0m\u001b[0mi\u001b[0m\u001b[0;34m]\u001b[0m\u001b[0;34m)\u001b[0m\u001b[0;34m\u001b[0m\u001b[0;34m\u001b[0m\u001b[0m\n\u001b[0m\u001b[1;32m     16\u001b[0m         \u001b[0mfh\u001b[0m\u001b[0;34m.\u001b[0m\u001b[0mwrite\u001b[0m\u001b[0;34m(\u001b[0m\u001b[0;34m\"\\n\"\u001b[0m \u001b[0;34m+\u001b[0m \u001b[0mepilogue\u001b[0m\u001b[0;34m)\u001b[0m\u001b[0;34m\u001b[0m\u001b[0;34m\u001b[0m\u001b[0m\n\u001b[1;32m     17\u001b[0m \u001b[0;34m\u001b[0m\u001b[0m\n",
      "\u001b[0;31mTypeError\u001b[0m: write() argument must be str, not list"
     ]
    }
   ],
   "source": [
    "text_split = []\n",
    "\n",
    "i = 1000\n",
    "with open(full_file_path, 'r') as fh:\n",
    "    while i <= 11730:\n",
    "        print(keyword + str(i) + \"() throws Exception {\")\n",
    "        text_split.append(fh.read().split(keyword + str(i) + \"() throws Exception {\"))\n",
    "        i += 1000;\n",
    "\n",
    "print(len(text_split))\n",
    "\n",
    "for i in range(len(text_split)):\n",
    "    with open(sub_file_path + str(i) + \".java\", 'w') as fh:\n",
    "        fh.write(prologue)\n",
    "        fh.write(text_split[i])\n",
    "        fh.write(\"\\n\" + epilogue)\n",
    "\n",
    "        # with open(sub_file_path + \"1.java\", 'w') as fh:\n",
    "        #     fh.write(prologue)\n",
    "        #     fh.write(text_split[0])\n",
    "        #     fh.write(\"\\n\" + epilogue)\n",
    "\n",
    "        # with open(sub_file_path + \"1.java\", 'w') as fh:\n",
    "        #     # If you know that the keyword only appears once\n",
    "        #     # you can changes this to fh.write(text_split[1])\n",
    "        #     fh.write(keyword.join(text_split[1]))"
   ]
  },
  {
   "cell_type": "code",
   "execution_count": 40,
   "metadata": {},
   "outputs": [
    {
     "name": "stdout",
     "output_type": "stream",
     "text": [
      "1000\n",
      "2000\n",
      "3000\n",
      "4000\n",
      "5000\n",
      "6000\n",
      "7000\n",
      "8000\n",
      "9000\n",
      "10000\n",
      "11000\n",
      "12000\n"
     ]
    }
   ],
   "source": [
    "i = 1000\n",
    "while i <= 12000:\n",
    "    print(i)\n",
    "    i += 1000"
   ]
  },
  {
   "cell_type": "code",
   "execution_count": null,
   "metadata": {},
   "outputs": [],
   "source": []
  }
 ],
 "metadata": {
  "kernelspec": {
   "display_name": "Python 3",
   "language": "python",
   "name": "python3"
  },
  "language_info": {
   "codemirror_mode": {
    "name": "ipython",
    "version": 3
   },
   "file_extension": ".py",
   "mimetype": "text/x-python",
   "name": "python",
   "nbconvert_exporter": "python",
   "pygments_lexer": "ipython3",
   "version": "3.7.6"
  }
 },
 "nbformat": 4,
 "nbformat_minor": 4
}
